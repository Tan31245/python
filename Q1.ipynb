{
 "cells": [
  {
   "cell_type": "markdown",
   "id": "94557486",
   "metadata": {},
   "source": [
    "## a) Print Mathematical tables from 3 to 20."
   ]
  },
  {
   "cell_type": "code",
   "execution_count": null,
   "id": "00a911f8",
   "metadata": {},
   "outputs": [],
   "source": [
    "for i in range(3,21):\n",
    "    for j in range(1,11):\n",
    "        print(\"{} * {} =\".format(i,j),i*j)"
   ]
  },
  {
   "cell_type": "markdown",
   "id": "c5844001",
   "metadata": {},
   "source": [
    "## b) Take Input Parameters Start=3 and End=20 from User through Keyboard. Print the same Mathematical Tables. If user gives the two inputs as 4 and 25, then the tables should print from 4 to 25."
   ]
  },
  {
   "cell_type": "code",
   "execution_count": null,
   "id": "7047b8a0",
   "metadata": {},
   "outputs": [],
   "source": [
    "s=int(input(\"Enter start number\"))\n",
    "e=int(input(\"Enter end number\"))\n",
    "for i in range(s,e+1):\n",
    "    for j in range(1,11):\n",
    "        print(\"{} * {} =\".format(i,j),i*j)"
   ]
  },
  {
   "cell_type": "markdown",
   "id": "27d8b9c2",
   "metadata": {},
   "source": [
    "## c) Take Input Parameters from a file called in.txt having 5 and 30 in first and second line. Your program should read the first two lines of this file and print Mathematical Tables from 5 to 30."
   ]
  },
  {
   "cell_type": "code",
   "execution_count": null,
   "id": "061e197e",
   "metadata": {},
   "outputs": [],
   "source": [
    "with open(\"in.txt\") as f:\n",
    "    x=int(f.readline())\n",
    "    y=int(f.readline())\n",
    "for i in range(x,y+1):\n",
    "    for j in range(1,11):\n",
    "        print(\"{} * {} =\".format(i,j),i*j)"
   ]
  },
  {
   "cell_type": "markdown",
   "id": "4d694ba0",
   "metadata": {},
   "source": [
    "## d) Take Input Parameters 6,12 from a file called in.txt written on the same line separated by a comma. The output should get written to a file called out.txt. To go to next line, f1.write(\"\\n\")\n"
   ]
  },
  {
   "cell_type": "code",
   "execution_count": null,
   "id": "4167cd66",
   "metadata": {},
   "outputs": [],
   "source": [
    "with open(\"in.txt\") as f:\n",
    "    x=f.readline().strip().split(',')\n",
    "a=int(x[0])\n",
    "b=int(x[1])\n",
    "with open(\"out.txt\",'w') as f:\n",
    "    for i in range(a,b+1):\n",
    "        for j in range(1,11):\n",
    "            f.write(\"{} * {} =\".format(i,j) + str(i*j) + \"\\n\")"
   ]
  },
  {
   "cell_type": "markdown",
   "id": "d80b0cfb",
   "metadata": {},
   "source": [
    "## e) Take Input Parameters 7 and 10 from console. Output to 4 different files 7.txt, 8.txt, 9.txt, 10.txt"
   ]
  },
  {
   "cell_type": "code",
   "execution_count": null,
   "id": "58cb5f46",
   "metadata": {},
   "outputs": [],
   "source": [
    "s=int(input(\"Enter start number\"))\n",
    "e=int(input(\"Enter end number\"))\n",
    "for i in range(s,e+1):\n",
    "    with open(\"{}.txt\".format(i),'w') as f:\n",
    "        for j in range(1,11):\n",
    "            f.write(\"{} * {} =\".format(i,j)+str(i*j)+\"\\n\")"
   ]
  },
  {
   "cell_type": "markdown",
   "id": "2b9ad3b0",
   "metadata": {},
   "source": [
    "## f) Take Input Parameters 8 and 9 from console. Output in a separate directory called TABLES and with 8_yyyymmdd_hhmmss.txt (eg 8_20210828_110503.txt). Import datetime as dt, today=dt.datetime.now()"
   ]
  },
  {
   "cell_type": "code",
   "execution_count": 33,
   "id": "ba1670e4",
   "metadata": {},
   "outputs": [
    {
     "name": "stdout",
     "output_type": "stream",
     "text": [
      "Enter start number8\n",
      "Enter end number9\n"
     ]
    }
   ],
   "source": [
    "import os\n",
    "os.makedirs(\"TABLES\",exist_ok=True)\n",
    "import datetime as dt\n",
    "s=int(input(\"Enter start number\"))\n",
    "e=int(input(\"Enter end number\"))\n",
    "for i in range(s,e+1):\n",
    "    today=dt.datetime.now().strftime(\"%Y%m%d_%H%M%S\")\n",
    "    with open(\"TABLES/{}_\".format(i)+today+\".txt\",'w') as f:\n",
    "        for j in range(1,11):\n",
    "            f.write(\"{} * {} =\".format(i,j)+str(i*j)+\"\\n\")"
   ]
  }
 ],
 "metadata": {
  "kernelspec": {
   "display_name": "Python 3 (ipykernel)",
   "language": "python",
   "name": "python3"
  },
  "language_info": {
   "codemirror_mode": {
    "name": "ipython",
    "version": 3
   },
   "file_extension": ".py",
   "mimetype": "text/x-python",
   "name": "python",
   "nbconvert_exporter": "python",
   "pygments_lexer": "ipython3",
   "version": "3.11.4"
  }
 },
 "nbformat": 4,
 "nbformat_minor": 5
}

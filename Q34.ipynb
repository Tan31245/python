{
 "cells": [
  {
   "cell_type": "markdown",
   "id": "75c05a51",
   "metadata": {},
   "source": [
    "Q34)Convert decimal number to binary number"
   ]
  },
  {
   "cell_type": "code",
   "execution_count": null,
   "id": "0871b027",
   "metadata": {},
   "outputs": [],
   "source": [
    "def decimal_to_binary(decimal_num):\n",
    "    binary_result = \"\"\n",
    "\n",
    "    if decimal_num == 0:\n",
    "        return \"0\"\n",
    "\n",
    "    while decimal_num > 0:\n",
    "        remainder = decimal_num % 2\n",
    "        binary_result = str(remainder) + binary_result\n",
    "        decimal_num //= 2\n",
    "\n",
    "    return binary_result\n",
    "\n",
    "# Example usage\n",
    "decimal_number = int(input(\"Enter a decimal number: \"))\n",
    "binary_result = decimal_to_binary(decimal_number)\n",
    "\n",
    "print(f\"The binary representation of {decimal_number} is: {binary_result}\")\n"
   ]
  },
  {
   "cell_type": "markdown",
   "id": "eb0f423b",
   "metadata": {},
   "source": [
    "Q31) Matrix Multiplication"
   ]
  },
  {
   "cell_type": "code",
   "execution_count": 15,
   "id": "054ae878",
   "metadata": {},
   "outputs": [
    {
     "name": "stdout",
     "output_type": "stream",
     "text": [
      "Enter the number of rows for matrix 1: 1\n",
      "Enter the number of columns for matrix 1: 1\n",
      "Enter element at position (1, 1): 1\n",
      "Enter the number of rows for matrix 2: 1\n",
      "Enter the number of columns for matrix 2: 1\n",
      "Enter element at position (1, 1): 1\n",
      "[1]\n"
     ]
    }
   ],
   "source": [
    "def matrix_multiply(A, B):\n",
    "    if len(A[0]) != len(B):\n",
    "        raise ValueError(\"Number of columns in the first matrix must be equal to the number of rows in the second matrix\")\n",
    "\n",
    "    result = [[0] * len(B[0]) for _ in range(len(A))]\n",
    "\n",
    "    for i in range(len(A)):\n",
    "        for j in range(len(B[0])):\n",
    "            for k in range(len(B)):\n",
    "                result[i][j] += A[i][k] * B[k][j]\n",
    "\n",
    "    return result\n",
    "\n",
    "def get_matrix_from_user(rows, cols):\n",
    "    matrix = []\n",
    "    for i in range(rows):\n",
    "        row = []\n",
    "        for j in range(cols):\n",
    "            element = int(input(f\"Enter element at position ({i + 1}, {j + 1}): \"))\n",
    "            row.append(element)\n",
    "        matrix.append(row)\n",
    "    return matrix\n",
    "\n",
    "# Get input matrices from the user\n",
    "rows1 = int(input(\"Enter the number of rows for matrix 1: \"))\n",
    "cols1 = int(input(\"Enter the number of columns for matrix 1: \"))\n",
    "matrix1 = get_matrix_from_user(rows1, cols1)\n",
    "\n",
    "rows2 = int(input(\"Enter the number of rows for matrix 2: \"))\n",
    "cols2 = int(input(\"Enter the number of columns for matrix 2: \"))\n",
    "matrix2 = get_matrix_from_user(rows2, cols2)\n",
    "\n",
    "\n",
    "result_matrix = matrix_multiply(matrix1, matrix2)\n",
    "for i in result_matrix:\n",
    "    print(i)"
   ]
  },
  {
   "cell_type": "markdown",
   "id": "e3fa1693",
   "metadata": {},
   "source": [
    "Q30) Print all leap years from 2000 to 2040"
   ]
  },
  {
   "cell_type": "code",
   "execution_count": 17,
   "id": "c40b32aa",
   "metadata": {},
   "outputs": [
    {
     "name": "stdout",
     "output_type": "stream",
     "text": [
      "Enter the start year: 2001\n",
      "Enter the end year: 2002\n",
      "There are no leap years between 2001 and 2002.\n"
     ]
    }
   ],
   "source": [
    "def is_leap_year(year):\n",
    "    return (year % 4 == 0 and year % 100 != 0) or (year % 400 == 0)\n",
    "\n",
    "def print_leap_years(start_year, end_year):\n",
    "    leap_years = [year for year in range(start_year, end_year + 1) if is_leap_year(year)]\n",
    "    if leap_years:\n",
    "        print(\"Leap years between {} and {}:\".format(start_year, end_year))\n",
    "        for year in leap_years:\n",
    "            print(year)\n",
    "    else:\n",
    "        print(\"There are no leap years between {} and {}.\".format(start_year, end_year))\n",
    "\n",
    "# Example usage\n",
    "start_year = int(input(\"Enter the start year: \"))\n",
    "end_year = int(input(\"Enter the end year: \"))\n",
    "\n",
    "print_leap_years(start_year, end_year)\n"
   ]
  },
  {
   "cell_type": "markdown",
   "id": "59403aea",
   "metadata": {},
   "source": [
    "Q33) Print A to Z, a to Z by converting ASCII to ORDINAL and vice versa"
   ]
  },
  {
   "cell_type": "code",
   "execution_count": 26,
   "id": "59b0f6d4",
   "metadata": {},
   "outputs": [
    {
     "name": "stdout",
     "output_type": "stream",
     "text": [
      "A B C D E F G H I J K L M N O P Q R S T U V W X Y Z "
     ]
    }
   ],
   "source": [
    "start1 = ord('A') \n",
    "end1 = ord('Z') \n",
    "start2 = ord('a') \n",
    "end2 = ord('z') \n",
    "for i in range(start1,end1+1):\n",
    "     print(chr(i),end=\" \")\n"
   ]
  },
  {
   "cell_type": "code",
   "execution_count": null,
   "id": "1b7d39d1",
   "metadata": {},
   "outputs": [],
   "source": []
  }
 ],
 "metadata": {
  "kernelspec": {
   "display_name": "Python 3 (ipykernel)",
   "language": "python",
   "name": "python3"
  },
  "language_info": {
   "codemirror_mode": {
    "name": "ipython",
    "version": 3
   },
   "file_extension": ".py",
   "mimetype": "text/x-python",
   "name": "python",
   "nbconvert_exporter": "python",
   "pygments_lexer": "ipython3",
   "version": "3.11.6"
  }
 },
 "nbformat": 4,
 "nbformat_minor": 5
}

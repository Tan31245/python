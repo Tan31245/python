{
 "cells": [
  {
   "cell_type": "markdown",
   "id": "68461cd6",
   "metadata": {},
   "source": [
    "## a) School Clock is showing 9 am. Compute the angle between the Hour hand and the Minute hand. It should show Time: Angle in Degrees from 9:00 am to 8:55 pm with a spacing of 5 minutes. First compute angle traversed by hour hand in one hour. Use this value to compute angle traversed in 5 minutes.\n"
   ]
  },
  {
   "cell_type": "code",
   "execution_count": null,
   "id": "67c0e269",
   "metadata": {},
   "outputs": [],
   "source": [
    "from datetime import datetime, timedelta\n",
    "angle=angle_initial = 90\n",
    "angle_hour = 30/60\n",
    "angle_minute = 360/60\n",
    "\n",
    "start_time = datetime.strptime(\"09:00\", \"%H:%M\")  #string to datetime object\n",
    "end_time = datetime.strptime(\"20:55\", \"%H:%M\")\n",
    "time_increment = timedelta(minutes=5)\n",
    "\n",
    "current_time = start_time\n",
    "while current_time <= end_time:\n",
    "    print(current_time.strftime(\"%H:%M\"),'- ',angle)   #datetime object to string\n",
    "    angle = (angle + (angle_minute - angle_hour)*5)%360\n",
    "    current_time += time_increment"
   ]
  },
  {
   "cell_type": "markdown",
   "id": "f717f9c7",
   "metadata": {},
   "source": [
    "## b) Use angle%360 to get modulo of 360 and avoid negative values. Initially let the clock show 24-hour time format eg. 13:00 hrs, 14:00 hrs etc. Later change to 12-hour format with AM, PM. "
   ]
  },
  {
   "cell_type": "code",
   "execution_count": null,
   "id": "02356d1c",
   "metadata": {},
   "outputs": [],
   "source": [
    "from datetime import datetime, timedelta\n",
    "angle=angle_initial = 90\n",
    "angle_hour = 30/60\n",
    "angle_minute = 360/60\n",
    "\n",
    "start_time = datetime.strptime(\"09:00\", \"%H:%M\")  #string to datetime object\n",
    "end_time = datetime.strptime(\"20:55\", \"%H:%M\")\n",
    "time_increment = timedelta(minutes=5)\n",
    "\n",
    "current_time = start_time\n",
    "while current_time <= end_time:\n",
    "    print(current_time.strftime(\"%I:%M %p\"),'- ',angle)   #datetime object to string\n",
    "    angle = (angle + (angle_minute - angle_hour)*5)%360\n",
    "    current_time += time_increment"
   ]
  }
 ],
 "metadata": {
  "kernelspec": {
   "display_name": "Python 3 (ipykernel)",
   "language": "python",
   "name": "python3"
  },
  "language_info": {
   "codemirror_mode": {
    "name": "ipython",
    "version": 3
   },
   "file_extension": ".py",
   "mimetype": "text/x-python",
   "name": "python",
   "nbconvert_exporter": "python",
   "pygments_lexer": "ipython3",
   "version": "3.11.4"
  }
 },
 "nbformat": 4,
 "nbformat_minor": 5
}

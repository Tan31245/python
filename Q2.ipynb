{
 "cells": [
  {
   "cell_type": "markdown",
   "id": "68461cd6",
   "metadata": {},
   "source": [
    "Q2)a) School Clock is showing 9 am. Compute the angle between the Hour hand and the Minute hand. It should show Time: Angle in Degrees from 9:00 am to 8:55 pm with a spacing of 5 minutes. First compute angle traversed by hour hand in one hour. Use this value to compute angle traversed in 5 minutes.\n"
   ]
  },
  {
   "cell_type": "code",
   "execution_count": null,
   "id": "67c0e269",
   "metadata": {},
   "outputs": [],
   "source": [
    "from datetime import datetime, timedelta\n",
    "angle=angle_initial = 90\n",
    "angle_hour = 30/60\n",
    "angle_minute = 360/60\n",
    "\n",
    "start_time = datetime.strptime(\"09:00\", \"%H:%M\")  #string to datetime object\n",
    "end_time = datetime.strptime(\"20:55\", \"%H:%M\")\n",
    "time_increment = timedelta(minutes=5)\n",
    "\n",
    "current_time = start_time\n",
    "while current_time <= end_time:\n",
    "    print(current_time.strftime(\"%H:%M\"),'- ',angle)   #datetime object to string\n",
    "    angle = (angle + (angle_minute - angle_hour)*5)%360\n",
    "    current_time += time_increment"
   ]
  },
  {
   "cell_type": "markdown",
   "id": "f717f9c7",
   "metadata": {},
   "source": [
    "b) Use angle%360 to get modulo of 360 and avoid negative values. Initially let the clock show 24-hour time format eg. 13:00 hrs, 14:00 hrs etc. Later change to 12-hour format with AM, PM. "
   ]
  },
  {
   "cell_type": "code",
   "execution_count": null,
   "id": "02356d1c",
   "metadata": {},
   "outputs": [],
   "source": [
    "#Yes I converted 20:55 to 8:55\n",
    "from datetime import datetime, timedelta\n",
    "angle=angle_initial = 90\n",
    "angle_hour = 30/60\n",
    "angle_minute = 360/60\n",
    "\n",
    "start_time = datetime.strptime(\"09:00\", \"%H:%M\")  #string to datetime object\n",
    "end_time = datetime.strptime(\"20:55\", \"%H:%M\")\n",
    "time_increment = timedelta(minutes=5)\n",
    "\n",
    "current_time = start_time\n",
    "while current_time <= end_time:\n",
    "    print(current_time.strftime(\"%I:%M %p\"),'- ',angle)   #datetime object to string\n",
    "    angle = (angle + (angle_minute - angle_hour)*5)%360\n",
    "    current_time += time_increment"
   ]
  },
  {
   "cell_type": "markdown",
   "id": "d88c778c",
   "metadata": {},
   "source": [
    "Q3)a) Write a program to read each line of file inConvert.txt and write the equivalent reverse conversion into outConvert.txt\n",
    "Example 1: If input is\n",
    "1 metre = 100 com, then output should be\n",
    "\n",
    "1 metre = 100 cm\n",
    "1 cm = 0.01 metre\n",
    "\n",
    "Example 2: If input is\n",
    "8 kilometres = 5 miles, then output should be\n",
    "\n",
    "1 kilometer = (5/8) miles.\n",
    "1 mile = (8/5) kilometres\n"
   ]
  },
  {
   "cell_type": "code",
   "execution_count": null,
   "id": "6eb7ad73",
   "metadata": {},
   "outputs": [],
   "source": [
    "def reverse_conversion(line):\n",
    "    # Split the input line into components\n",
    "    parts = line.split()\n",
    "\n",
    "    # Extract values and units\n",
    "    value1 = float(parts[0])\n",
    "    unit1 = parts[1]\n",
    "    equal_sign = parts[2]\n",
    "    value2 = float(parts[3])\n",
    "    unit2 = parts[4]\n",
    "\n",
    "    # Perform reverse conversion\n",
    "    result = \"1 {} = {} {}\".format(unit1,value2/value1,unit2)\n",
    "    result += \"\\n1 {} = {} {}\".format(unit2,value1/value2,unit1)\n",
    "\n",
    "    return result\n",
    "\n",
    "def convert_file(input_file_path, output_file_path):\n",
    "    try:\n",
    "        with open(input_file_path, 'r') as input_file, open(output_file_path, 'w') as output_file:\n",
    "            for line in input_file:\n",
    "                output_file.write(reverse_conversion(line))\n",
    "\n",
    "        print(f\"Conversion completed. Results written to {output_file_path}\")\n",
    "\n",
    "    except FileNotFoundError:\n",
    "        print(f\"Error: File {input_file_path} not found.\")\n",
    "\n",
    "# Example usage\n",
    "input_file_path = \"inConvert.txt\"\n",
    "output_file_path = \"outConvert.txt\"\n",
    "convert_file(input_file_path, output_file_path)"
   ]
  },
  {
   "cell_type": "markdown",
   "id": "188bf037",
   "metadata": {},
   "source": [
    "b) Take units and value from input console. Print output in above format. Eg. USD 2 should give INR 150"
   ]
  },
  {
   "cell_type": "markdown",
   "id": "07ba8b21",
   "metadata": {},
   "source": [
    "Not understood the question"
   ]
  },
  {
   "cell_type": "markdown",
   "id": "b7d6969b",
   "metadata": {},
   "source": [
    "Q4)a) Andaman Prisoner Problem - There are 100 prison cells in a row. All cells are locked. Jailer is given permission by the Prime Minister of India to release any number of prisoners.\n",
    "In Round 1, Jailer opens all the doors.\n",
    "In Round 2, he closes every alternate door (2, 4, 6...).\n",
    "In Round 3, every third door (3, 6, 9,....) if Door is Open,, he closes it. If Door is Closed, he opens it.\n",
    "In Round 4, every fourth door (4, 8, 12..), if Door is open,, he closes it. If Door is Closed, he opens it.\n",
    "He does this for 100 Rounds. At the end, who are the lucky prisoners ?\n"
   ]
  },
  {
   "cell_type": "code",
   "execution_count": null,
   "id": "3bc67804",
   "metadata": {},
   "outputs": [],
   "source": [
    "def andaman_prisoner_problem(num_prisoners, num_rounds):\n",
    "    doors = [False] * num_prisoners  # Initialize all doors as closed\n",
    "\n",
    "    for round_num in range(1, num_rounds + 1):\n",
    "        for door_num in range(round_num - 1, num_prisoners, round_num):\n",
    "            doors[door_num] = not doors[door_num]  # Toggle the state of the door\n",
    "\n",
    "    lucky_prisoners = [i + 1 for i, door_state in enumerate(doors) if door_state]\n",
    "    return lucky_prisoners\n",
    "\n",
    "# Simulate the Andaman Prisoner Problem for 100 rounds with 100 prisoners\n",
    "lucky_prisoners = andaman_prisoner_problem(100, 100)\n",
    "\n",
    "print(\"Lucky Prisoners:\", lucky_prisoners)"
   ]
  },
  {
   "cell_type": "markdown",
   "id": "489f4ac1",
   "metadata": {},
   "source": [
    "b) Prepare 2 letters. Letter1 to PM giving list of lucky prisoners and release date as today. Letter2 to Jailer giving list of unlucky prisoners who will be released after 4 weeks."
   ]
  },
  {
   "cell_type": "code",
   "execution_count": null,
   "id": "131e330e",
   "metadata": {},
   "outputs": [],
   "source": [
    "from datetime import date,timedelta\n",
    "unlucky_prisoners= list(range(101))\n",
    "for i in lucky_prisoners:\n",
    "    unlucky_prisoners.remove(i)\n",
    "print(lucky_prisoners, \"Lucky prisoners release date : \",date.today().strftime(\"%d-%b-%Y\"),\"\\n\")\n",
    "print(unlucky_prisoners,\"Unlucky prisoners release date : \",(date.today()+timedelta(days=28)).strftime(\"%d-%b-%Y\"),\"\\n\")"
   ]
  },
  {
   "cell_type": "markdown",
   "id": "96996e49",
   "metadata": {},
   "source": [
    "Q5)a) Gold Medal Problem. There are 26 students in a class who have scored the following marks in 10th Std as per attached file Marks.txt (Name, Gender, RollNo....).Write a Program to read the contents of the file. Please print the Gold Medalist (overall top scorer) and individual Topper in each subject along with the respective marks."
   ]
  },
  {
   "cell_type": "code",
   "execution_count": null,
   "id": "b0a682d9",
   "metadata": {},
   "outputs": [],
   "source": [
    "def read_marks_file(file_path):\n",
    "    result=[]\n",
    "    with open(file_path, 'r') as file:\n",
    "        lines = file.readlines()\n",
    "        for line in lines:\n",
    "            if(len(line.strip())>0):\n",
    "                result.append(line.strip().split(','))\n",
    "    return result\n",
    "                \n",
    "\n",
    "def find_subjects(data):\n",
    "    # Extract subject names from the data\n",
    "    subjects=[]\n",
    "    subjects_line = data[3:-1]  # Subjects are in the second-to-last column\n",
    "    for j in subjects_line:\n",
    "        subjects.append(j.split(':')[0])\n",
    "    return subjects\n",
    "\n",
    "def find_top_scorers(data, subject):\n",
    "    # Find students with the highest score in a particular subject\n",
    "    max_score = 0\n",
    "    top_scorers = []\n",
    "    \n",
    "    for student in data:\n",
    "        score=0\n",
    "        scores_list = student[3:-1]\n",
    "        for i in scores_list:\n",
    "            if(i.split(':')[0]!=subject):\n",
    "                continue\n",
    "            score = int(i.split(':')[1])\n",
    "        \n",
    "        if score > max_score:\n",
    "            max_score = score\n",
    "            top_scorers = [(student[0], score)]\n",
    "        elif score == max_score:\n",
    "            top_scorers.append((student[0], score))\n",
    "\n",
    "    return top_scorers\n",
    "\n",
    "def find_gold_medalists(data):\n",
    "    # Find students with the highest overall score (Gold Medalists)\n",
    "    max_total_score = 0\n",
    "    gold_medalists = []\n",
    "\n",
    "    for student in data:\n",
    "        total_score=0\n",
    "        for i in student[3:-1]:\n",
    "            total_score += int(i.split(':')[1])\n",
    "\n",
    "        if total_score > max_total_score:\n",
    "            max_total_score = total_score\n",
    "            gold_medalists = [(student[0], total_score)]\n",
    "        elif total_score == max_total_score:\n",
    "            gold_medalists.append((student[0], total_score))\n",
    "\n",
    "    return gold_medalists\n",
    "\n",
    "# Example usage:\n",
    "file_path = 'Marks.txt'  # Replace with the actual file path\n",
    "marks_data = read_marks_file(file_path)\n",
    "subjects = find_subjects(marks_data[0])\n",
    "\n",
    "# Overall top scorers (Gold Medalists)\n",
    "gold_medalists = find_gold_medalists(marks_data)\n",
    "print(\"Gold Medalists:\")\n",
    "for name, score in gold_medalists:\n",
    "    print(f\"{name}: {score}\")\n",
    "\n",
    "# # Individual toppers in each subject\n",
    "print(\"\\nIndividual Toppers:\")\n",
    "for subject in subjects:\n",
    "    toppers = find_top_scorers(marks_data, subject)\n",
    "    print(f\"{subject} Toppers:\")\n",
    "    for name, score in toppers:\n",
    "        print(f\"{name}: {score}\")\n",
    "    print()"
   ]
  },
  {
   "cell_type": "markdown",
   "id": "2c5949ab",
   "metadata": {},
   "source": [
    "Q6)\n",
    "a) One of your friends has been tested COVID-19 positive from location (28.5383Â° N, 81.3792Â° W). There are only 4 COVID-19 testing centres in the country as per the list below  \n",
    "New York : 40.7128Â° N, 74.0060Â° W  \n",
    "Chicago: 41.8781Â° N, 87.6298Â° W  \n",
    "Denver: 39.7392Â° N, 104.9903Â° W  \n",
    "Los Angeles: 34.0522Â° N, 118.2437Â° W  \n",
    "Please determine the nearest location to where the patient has to be sent for Corona virus investigation.\n",
    "\n",
    "\n",
    "b) If each latitude is around 60 miles, if each longitude is around 54 miles, what is the distance that the patient has to travel."
   ]
  },
  {
   "cell_type": "code",
   "execution_count": 5,
   "id": "fd6198d6",
   "metadata": {},
   "outputs": [
    {
     "name": "stdout",
     "output_type": "stream",
     "text": [
      "The nearest testing center is New York.\n",
      "The patient has to travel approximately 831.93 miles.\n"
     ]
    }
   ],
   "source": [
    "from math import sqrt\n",
    "\n",
    "def haversine_distance(lat1, lon1, lat2, lon2, lat_factor, lon_factor):\n",
    "    dlat = lat2 - lat1\n",
    "    dlon = lon2 - lon1\n",
    "    perpendicular = dlat * lat_factor\n",
    "    base = dlon * lon_factor\n",
    "    distance = sqrt(perpendicular**2 + base**2)\n",
    "    return distance\n",
    "\n",
    "def find_nearest_testing_center(patient_location, testing_centers, lat_factor, lon_factor):\n",
    "    patient_lat, patient_lon = patient_location\n",
    "    min_distance = float('inf')\n",
    "    nearest_center = None\n",
    "\n",
    "    for center_name, center_location in testing_centers.items():\n",
    "        center_lat, center_lon = center_location\n",
    "        distance = haversine_distance(patient_lat, patient_lon, center_lat, center_lon, lat_factor, lon_factor)\n",
    "\n",
    "        if distance < min_distance:\n",
    "            min_distance = distance\n",
    "            nearest_center = center_name\n",
    "\n",
    "    return nearest_center, min_distance\n",
    "\n",
    "patient_location = (28.5383, -81.3792)\n",
    "testing_centers = {\n",
    "    'New York': (40.7128, -74.0060),\n",
    "    'Chicago': (41.8781, -87.6298),\n",
    "    'Denver': (39.7392, -104.9903),\n",
    "    'Los Angeles': (34.0522, -118.2437)\n",
    "}\n",
    "\n",
    "lat_factor = 60\n",
    "lon_factor = 54\n",
    "\n",
    "nearest_center, distance_to_travel = find_nearest_testing_center(patient_location, testing_centers, lat_factor, lon_factor)\n",
    "\n",
    "print(f\"The nearest testing center is {nearest_center}.\")\n",
    "print(f\"The patient has to travel approximately {distance_to_travel:.2f} miles.\")\n"
   ]
  },
  {
   "cell_type": "markdown",
   "id": "fbbc13cf",
   "metadata": {},
   "source": [
    "Q7)a) List top 10 countries with highest Corona deaths. The required statistics may be taken from WHO or MyGov\n",
    "\n",
    "\n",
    "2020-10-15,AF,Afghanistan,EMRO,32,40112,0,1485  \n",
    "2020-10-16,AF,Afghanistan,EMRO,47,40159,4,1489  \n",
    "2020-10-17,AF,Afghanistan,EMRO,68,40227,3,1492"
   ]
  },
  {
   "cell_type": "code",
   "execution_count": null,
   "id": "5b80a69e",
   "metadata": {},
   "outputs": [],
   "source": [
    "import pandas as pd\n",
    "\n",
    "# Read the CSV file into a DataFrame\n",
    "df = pd.read_csv('WHO-COVID-19-global-data.csv')\n",
    "\n",
    "# Group by country and sum the cumulative deaths\n",
    "total_deaths_by_country = df.groupby('Country')['Cumulative_deaths'].max()\n",
    "\n",
    "# Sort the values in descending order and get the top 10\n",
    "top_10_countries_by_deaths = total_deaths_by_country.sort_values(ascending=False).head(10)\n",
    "\n",
    "# Display the result\n",
    "print(top_10_countries_by_deaths)\n"
   ]
  },
  {
   "cell_type": "markdown",
   "id": "a5f78021",
   "metadata": {},
   "source": [
    "Q8)a)Find list of difficult words to learn for TOEFL exam from the passage below. These difficult words are enclosed between 2 asterix characters"
   ]
  },
  {
   "cell_type": "code",
   "execution_count": null,
   "id": "994672b8",
   "metadata": {},
   "outputs": [],
   "source": [
    "import re\n",
    "\n",
    "def find_difficult_words(text):\n",
    "    pattern = r'\\*(.*?)\\*'\n",
    "    difficult_words = re.findall(pattern, text)\n",
    "    return difficult_words\n",
    "\n",
    "# Example text\n",
    "text = '''Another day, and more cases reported from across the country. \n",
    "The number of COVID-19 cases tested positive in India is 156 and there are 139 active cases. According to WHO, \n",
    "as of March 17, there were 184,976 confirmed COVID-19 cases and 7,529 deaths in 159 \n",
    "countries. Chennai reported its second positive case today, West Bengal reported its first case yesterday,\n",
    "and the government of Goa made a *faux pas*. The State's health minister said a Norwegian national had tested\n",
    "positive but shortly afterwards retracted his remark.'''\n",
    "\n",
    "# Find difficult words\n",
    "difficult_words = find_difficult_words(text)\n",
    "\n",
    "# Display the result\n",
    "print(difficult_words)\n"
   ]
  },
  {
   "cell_type": "markdown",
   "id": "153e35a3",
   "metadata": {},
   "source": [
    "Q9)a)Remove special characters from a string.  \n",
    "old = \"How are you ? Oh my God, you are bleeding! Let us go to the doctor quickly.\"  \n",
    "new = How are you Oh my God you are bleeding Let us go to the doctor quickly  \n"
   ]
  },
  {
   "cell_type": "code",
   "execution_count": null,
   "id": "188af88b",
   "metadata": {},
   "outputs": [],
   "source": [
    "import re\n",
    "\n",
    "def remove_special_characters(input_string):\n",
    "    # Define the pattern to match special characters\n",
    "    pattern = r'[^A-Za-z0-9\\s]'\n",
    "    # Use re.sub to replace matched patterns with an empty string\n",
    "    result = re.sub(pattern, '', input_string)\n",
    "    return result\n",
    "old = input(\"Enter the string\")\n",
    "\n",
    "new = remove_special_characters(old)\n",
    "print(new)\n"
   ]
  },
  {
   "cell_type": "markdown",
   "id": "792a3c6a",
   "metadata": {},
   "source": [
    "Q10)a) Create a unique set of words arranged in alphabetical order. This list of words should be stored in a file called sorted_passage1.txt  "
   ]
  },
  {
   "cell_type": "code",
   "execution_count": null,
   "id": "a76649bd",
   "metadata": {},
   "outputs": [],
   "source": [
    "def process_and_save_file(input_filename, output_filename):\n",
    "    with open(input_filename, 'r', encoding='utf-8') as file:\n",
    "        passage_text = file.read()\n",
    "\n",
    "    words = passage_text.split()\n",
    "    unique_words = sorted(set(words))\n",
    "\n",
    "    with open(output_filename, 'w', encoding='utf-8') as output_file:\n",
    "        for word in unique_words:\n",
    "            output_file.write(f\"{word}\\n\")\n",
    "\n",
    "# Example usage for part (a)\n",
    "process_and_save_file('passage1.txt', 'sorted_passage1.txt')\n"
   ]
  },
  {
   "cell_type": "markdown",
   "id": "70b105e9",
   "metadata": {},
   "source": [
    "b) Now, create this as a function and apply this to all the files in a given directory.  \n",
    "If there are 10 files called  \n",
    "a. txt\n",
    "b. txt"
   ]
  },
  {
   "cell_type": "code",
   "execution_count": null,
   "id": "a14ecc8b",
   "metadata": {},
   "outputs": [],
   "source": [
    "import os\n",
    "\n",
    "def process_files_in_directory(input_directory):\n",
    "    for filename in os.listdir(input_directory):\n",
    "        if filename.endswith(\".txt\"):\n",
    "            input_path = os.path.join(input_directory, filename)\n",
    "            output_path = f'sorted_{filename}'\n",
    "\n",
    "            process_and_save_file(input_path, output_path)\n",
    "\n",
    "# Example usage for part (b)\n",
    "process_files_in_directory('your_directory_path')\n"
   ]
  },
  {
   "cell_type": "markdown",
   "id": "1026fe30",
   "metadata": {},
   "source": [
    "c)Merge all these files into one single sorted set of words which have unique words. This may be called sorted_20200326.txt\n",
    "\n",
    "ie. sorted_yyyymmdd.txt"
   ]
  },
  {
   "cell_type": "code",
   "execution_count": null,
   "id": "ba4b5828",
   "metadata": {},
   "outputs": [],
   "source": [
    "import os\n",
    "from datetime import datetime\n",
    "\n",
    "def merge_sorted_files(input_directory, output_filename_prefix):\n",
    "    all_words = set()\n",
    "\n",
    "    for filename in os.listdir(input_directory):\n",
    "        if filename.startswith('sorted_') and filename.endswith('.txt'):\n",
    "            file_path = os.path.join(input_directory, filename)\n",
    "\n",
    "            with open(file_path, 'r', encoding='utf-8') as file:\n",
    "                words = [line.strip() for line in file]\n",
    "\n",
    "            all_words.update(words)\n",
    "\n",
    "    sorted_all_words = sorted(all_words)\n",
    "\n",
    "    today_date = datetime.today().strftime('%Y%m%d')\n",
    "    output_filename = f\"{output_filename_prefix}_{today_date}.txt\"\n",
    "\n",
    "    with open(output_filename, 'w', encoding='utf-8') as output_file:\n",
    "        for word in sorted_all_words:\n",
    "            output_file.write(f\"{word}\\n\")\n",
    "\n",
    "# Example usage for part (c)\n",
    "merge_sorted_files('your_directory_path', 'sorted')\n"
   ]
  },
  {
   "cell_type": "markdown",
   "id": "a0eda14d",
   "metadata": {},
   "source": [
    "Q11)MailMerge for Insurance Payment Reminder\n",
    "We have a template of a message to be sent. Input file - template.txt - containing below template\n",
    "Dear $1salutation $2name ,You are kindly requested to make a payment of $3amount by $4date\n",
    "\n",
    "Input file - list1.txt - containing list of people who have to pay payment\n",
    "\n",
    "M, James, 1000, 01-Apr-2020  \n",
    "F, Swati, 2000, 02-Apr-2020  \n",
    "M, Khan, 3000, 03-Apr-2020  \n",
    "F, Asha, 4000, 04-Apr-2020  \n",
    "\n",
    "Output file - message.txt - containing a personalized message for each person  \n",
    "This output file should have all merged content after taking inputs from both the files  \n",
    "\n",
    "Dear Mr. James, please pay a premium of Rs 1000 by 01-Apr-2020  \n",
    "Dear Ms. Swati, please pay a premium of Rs 2000 by 02-Apr-2020  \n",
    "Dear Mr. Khan, please pay a premium of Rs 3000 by 03-Apr-2020  \n",
    "Dear Ms. Asha, please pay a premium of Rs 4000 by 03-Apr-2020  "
   ]
  },
  {
   "cell_type": "code",
   "execution_count": null,
   "id": "69b48148",
   "metadata": {},
   "outputs": [],
   "source": [
    "def mail_merge(template, data, output_file):\n",
    "    with open(template, 'r', encoding='utf-8') as template_file:\n",
    "        template_content = template_file.read()\n",
    "\n",
    "    with open(data, 'r', encoding='utf-8') as data_file:\n",
    "        lines = data_file.readlines()\n",
    "\n",
    "    merged_messages = []\n",
    "\n",
    "    for line in lines:\n",
    "        values = line.strip().split(', ')\n",
    "        salutation = 'Mr.' if values[0] == 'M' else 'Ms.'\n",
    "        name = values[1]\n",
    "        amount = f\"Rs {values[2]}\"\n",
    "        date = values[3]\n",
    "        \n",
    "        # Perform mail merge\n",
    "        merged_message = template_content.replace('$1salutation', salutation)\\\n",
    "                                          .replace('$2name', name)\\\n",
    "                                          .replace('$3amount', amount)\\\n",
    "                                          .replace('$4date', date)\n",
    "\n",
    "        merged_messages.append(merged_message)\n",
    "\n",
    "    with open(output_file, 'w', encoding='utf-8') as output:\n",
    "        for message in merged_messages:\n",
    "            output.write(message + '\\n')\n",
    "\n",
    "# Example usage\n",
    "mail_merge('template.txt', 'list1.txt', 'message.txt')\n"
   ]
  },
  {
   "cell_type": "markdown",
   "id": "b9f7cfef",
   "metadata": {},
   "source": [
    "Q12)a) Find Resolution of an Image\n",
    "\n",
    "with open(filename,'rb') as img:  \n",
    "img_file.seek(163)  \n",
    "a = img_file.read(2)  \n",
    "height = (a[0] << 8) + a[1]  \n",
    "a = img_file.read(2)  \n",
    "width = (a[0] << 8) + a[1]  \n"
   ]
  },
  {
   "cell_type": "code",
   "execution_count": null,
   "id": "4fd5d0b4",
   "metadata": {},
   "outputs": [],
   "source": [
    "filename='path'\n",
    "with open(filename, 'rb') as img_file:\n",
    "    img_file.seek(163)\n",
    "    a = img_file.read(2)\n",
    "    height = (a[0] << 8) + a[1]\n",
    "    a = img_file.read(2)\n",
    "    width = (a[0] << 8) + a[1]\n",
    "\n",
    "print(f\"Width: {width}, Height: {height}\")\n"
   ]
  },
  {
   "cell_type": "markdown",
   "id": "9d080395",
   "metadata": {},
   "source": [
    "Q13)a) Find Hash of a File In any website, when we register, we are asked to set a Password. The service provider converts this Password into a HASH value and stores it in database. Next time, when you input your password, whatever you have input is converted into a HASH value. Both HASH values are compared. If they match, you are allowed entry. Else, you are blocked. Please generate the HASH of a given string or a file\n"
   ]
  },
  {
   "cell_type": "markdown",
   "id": "ea1b705c",
   "metadata": {},
   "source": [
    "Q28) Print a diamond shaped figure in 3 steps"
   ]
  },
  {
   "cell_type": "code",
   "execution_count": null,
   "id": "423ad282",
   "metadata": {},
   "outputs": [],
   "source": [
    "def print_diamond(num_lines):\n",
    "    if num_lines % 2 == 0:\n",
    "        print(\"Please enter an odd number of lines to create a symmetric diamond.\")\n",
    "        return\n",
    "    \n",
    "    for i in range(1, num_lines + 1, 2):\n",
    "        spaces = (num_lines - i) // 2\n",
    "        print(\" \" * spaces + \"*\" * i)\n",
    "\n",
    "    for i in range(num_lines - 2, 0, -2):\n",
    "        spaces = (num_lines - i) // 2\n",
    "        print(\" \" * spaces + \"*\" * i)\n",
    "\n",
    "# Example usage:\n",
    "num_lines = int(input(\"Enter the number of lines for the diamond: \"))\n",
    "print_diamond(num_lines)\n"
   ]
  },
  {
   "cell_type": "code",
   "execution_count": null,
   "id": "4a8e33da",
   "metadata": {},
   "outputs": [],
   "source": []
  }
 ],
 "metadata": {
  "kernelspec": {
   "display_name": "Python 3 (ipykernel)",
   "language": "python",
   "name": "python3"
  },
  "language_info": {
   "codemirror_mode": {
    "name": "ipython",
    "version": 3
   },
   "file_extension": ".py",
   "mimetype": "text/x-python",
   "name": "python",
   "nbconvert_exporter": "python",
   "pygments_lexer": "ipython3",
   "version": "3.11.6"
  }
 },
 "nbformat": 4,
 "nbformat_minor": 5
}
